{
 "cells": [
  {
   "attachments": {},
   "cell_type": "markdown",
   "metadata": {},
   "source": [
    "# Equipo: Myculinsky 😉\n",
    "\n",
    "Integrantes:\n",
    "- Deborah Famadas Rodríguez C-412 @dbyta\n",
    "- David Manuel García Aguilera C-411 @dmga44\n",
    "\n",
    "\n",
    "#### Problema: 😵‍💫😵\n",
    "\n",
    "Deborah y los Stacks\n",
    "\n",
    "Deborah quiere prepararse para el mundo laboral porque ya casi se gradúa (#!@$ Yeah!) Ella conoce que en general hay muchas cosas que puede aprender del mundo de la programacion: angular, dotnet, docker, ...\n",
    "\n",
    "Por suerte Deborah consiguió una lista en internet con todo lo que se puede aprender relacionado con su carrera, la lista S (stacks) le llamaremos. Cuando siguió buscando online es dio cuenta que las compañias siempre le piden a los candidatos dominio sobre ciertas tecnologias, que, como Deborah investigó bien, todas estas se encuentran en su lista S.\n",
    "\n",
    "Por tanto Deborah hace otra lista, esta vez la lista C, mucho mas larga, donde tiene el conjunto de tecnologías que pide cada compañia que Deborah investigó.\n",
    "\n",
    "Ahora Deborah se debe decidir sobre que compañías va a aplicar, y para esto selecciona exactamente k, que es su tope de multitasking. Ella sabe que como es rubia las compañías pueden tener prejuicios, pero Deborah es inteligente. Ella va a elegir un conjunto de compañias tal que, si debe aplicar a cualquier otra de las no escogidas, la unión del conocimento obtenido preparandose para un subconjunto de las elegidas le dé exactamente los conocimientos que necesita para aplicar a esta otra compañía.Deborah y los Stacks\n",
    "\n",
    "Deborah quiere prepararse para el mundo laboral porque ya casi se gradúa (#!@$ Yeah!) Ella conoce que en general hay muchas cosas que puede aprender del mundo de la programacion: angular, dotnet, docker, ...\n",
    "\n",
    "Por suerte Deborah consiguió una lista en internet con todo lo que se puede aprender relacionado con su carrera, la lista S (stacks) le llamaremos. Cuando siguió buscando online es dio cuenta que las compañias siempre le piden a los candidatos dominio sobre ciertas tecnologias, que, como Deborah investigó bien, todas estas se encuentran en su lista S.\n",
    "\n",
    "Por tanto Deborah hace otra lista, esta vez la lista C, mucho mas larga, donde tiene el conjunto de tecnologías que pide cada compañia que Deborah investigó.\n",
    "\n",
    "Ahora Deborah se debe decidir sobre que compañías va a aplicar, y para esto selecciona exactamente k, que es su tope de multitasking. Ella sabe que como es rubia las compañías pueden tener prejuicios, pero Deborah es inteligente. Ella va a elegir un conjunto de compañias tal que, si debe aplicar a cualquier otra de las no escogidas, la unión del conocimento obtenido preparandose para un subconjunto de las elegidas le dé exactamente los conocimientos que necesita para aplicar a esta otra compañía.\n",
    "\n",
    "#### Explicación matemática: 👌🏻\n",
    "\n",
    "- Se recibe un set $c$ de nombres de compañias y un $k$ entero. \n",
    "- Se desea obtener como respuesta un conjunto de $k$ elementos del set tal que se satisfaga que sea un conjunto mínimo dominante."
   ]
  },
  {
   "attachments": {},
   "cell_type": "markdown",
   "metadata": {},
   "source": [
    "#### Explicación de la solución por Fuerza Bruta:\n",
    "\n",
    "Para la implementación de la solución por fuerza bruta se generan todos los posibles subarrays de longitud $k \\leq n$ del array y se comprueba que sus sumas son positivas, y luego se devuelve el $k$ más grande. "
   ]
  },
  {
   "cell_type": "code",
   "execution_count": 1,
   "metadata": {
    "scrolled": true
   },
   "outputs": [
    {
     "name": "stdout",
     "output_type": "stream",
     "text": [
      "[{'angular', 'docker'}, {'dotnet'}]\n"
     ]
    }
   ],
   "source": [
    "import itertools\n",
    "\n",
    "def best_k_companies(companies, k):\n",
    "    max_dominated = -1\n",
    "    best_subset = None\n",
    "    for subset in itertools.combinations(companies, k):\n",
    "        dominated = get_dominated_companies(companies, subset)\n",
    "        if len(dominated) > max_dominated:\n",
    "            max_dominated = len(dominated)\n",
    "            best_subset = subset\n",
    "    return list(best_subset)\n",
    "\n",
    "def get_dominated_companies(companies, subset):\n",
    "    subset_techs = set.union(*subset)\n",
    "    return [company for company in companies if company.issubset(subset_techs)]\n",
    "\n",
    "# ejemplo de uso\n",
    "companies = [\n",
    "    {\"angular\", \"docker\"}, \n",
    "    {\"dotnet\"}, \n",
    "    {\"angular\", \"dotnet\"}, \n",
    "    {\"docker\"}\n",
    "]\n",
    "\n",
    "print(best_k_companies(companies, 2)) # Output: [{'angular', 'docker'}, {'dotnet'}]\n"
   ]
  },
  {
   "attachments": {},
   "cell_type": "markdown",
   "metadata": {},
   "source": [
    "### Demostración de la solución por fuerza bruta: 💪🏻 \n",
    "\n",
    "Demostremos que la solución anterior devuelve el mayor $k$ tal que todas las secuencias de tamaño $k$ del array tienen suma positiva.\n",
    "\n",
    "Para demostrar que la solución es correcta, debemos probar que:\n",
    "- si existe un $k$, $1 \\leq k \\leq n$ tal que todo subarray de ese tamaño es de suma positiva entonces encontramos alguno de ellos, sino la respuesta la definimos como $0$. Esta parte es fácil de probar ya que pasamos por todo $k$ entre esos valores y comprobamos para cada intervalo de tamaño $k$ que tenga suma positiva, si existe algún $k$ que cumpla esta condición entonces ```ans``` tendría un valor mayor que $0$.\n",
    "- no existe ningún $k$ tal que todo intervalo de ese tamaño sea de suma positiva y tenga valor mayor que el valor final de ```ans```. Esto no tiene sentido ya que ```ans``` toma el máximo de los $k$ que han cumplido la condición.\n",
    "\n",
    "El algoritmo ejecuta exactamente $\\binom{n+2}{3}$ veces la línea de código ```sum += a[i]``` y esta es la más costosa asintóticamente en toda la solución. Por lo tanto la complejidad temporal es $O(n^3)$."
   ]
  },
  {
   "attachments": {},
   "cell_type": "markdown",
   "metadata": {},
   "source": [
    "### Explicación general de la solución: 🥵\n",
    "\n",
    "La solución por fuerza bruta para este problema es una exploración exhaustiva de todas las posibles selecciones de conjuntos de tamaño $k$ del conjunto original de nodos en el grafo.\n",
    "\n",
    "La idea central es que, si tenemos un grafo y queremos encontrar un subconjunto de nodos de tamaño $k$ que maximice el número de nodos dominados, podemos simplemente probar todas las posibles combinaciones de nodos y mantener un registro del conjunto que domina el mayor número de nodos.\n",
    "\n",
    "Decimos que un conjunto de nodos es dominante si, para cada nodo en el grafo que no está en el conjunto, al menos uno de sus vecinos está en el conjunto. En otras palabras, un conjunto dominante es un conjunto de nodos tal que cada nodo en el grafo está o bien en el conjunto, o es adyacente a al menos un nodo en el conjunto.\n",
    "\n",
    "Solución de fuerza bruta:\n",
    "\n",
    "1. Generamos todos los posibles subconjuntos de tamaño $k$ de los nodos en el grafo. Hay $n^k$ de estos subconjuntos, donde $n^k$ es el coeficiente binomial que representa el número de formas de elegir $k$ elementos de un conjunto de $n$ elementos, sin tener en cuenta el orden.\n",
    "\n",
    "2. Para cada subconjunto, calculamos su conjunto dominante. Esto se hace uniéndolos (en el sentido del conjunto) y verificando qué nodos del grafo son adyacentes a este subconjunto unido.\n",
    "\n",
    "3. Mantenemos un registro del subconjunto que domina el mayor número de nodos.\n",
    "\n",
    "Como resultado de esta lógica, la solución por fuerza bruta garantiza que encontraremos el conjunto de tamaño $k$ que domina el mayor número de nodos, simplemente porque hemos probado todas las posibles combinaciones.\n",
    "\n",
    "Complejidad final $O(n^k * n)$."
   ]
  },
  {
   "cell_type": "code",
   "execution_count": null,
   "metadata": {},
   "outputs": [],
   "source": [
    "#implement"
   ]
  },
  {
   "attachments": {},
   "cell_type": "markdown",
   "metadata": {},
   "source": [
    "#### Análisis de complejidad temporal: \n",
    "\n",
    "La complejidad temporal de la solución por fuerza bruta es $O(n^k * n)$, donde $n$ es el número de empresas y $k$ es el número de empresas que Deborah está dispuesta a considerar.\n",
    "\n",
    "Para resolver el problema, generamos todos los posibles subconjuntos de tamaño $k$ de las empresas. El número de dichos subconjuntos es $n^k$, que puede ser calculado usando el coeficiente binomial, y es de orden $O(n^k)$ en términos generales.\n",
    "\n",
    "Luego, para cada subconjunto, verificamos cuántas empresas adicionales puede \"dominar\". Hacemos esto comprobando, para cada empresa, si su conjunto de tecnologías requeridas es un subconjunto del conjunto de tecnologías cubiertas por las empresas en el subconjunto que estamos considerando. Como hay $n$ empresas, esta comprobación toma un tiempo de $O(n)$ para cada subconjunto.\n",
    "\n",
    "Por lo tanto, el tiempo total de ejecución es la combinación de estas dos partes: $O(n^k * n)$."
   ]
  },
  {
   "attachments": {},
   "cell_type": "markdown",
   "metadata": {},
   "source": [
    "#### Generador:\n"
   ]
  },
  {
   "cell_type": "code",
   "execution_count": 20,
   "metadata": {
    "scrolled": true
   },
   "outputs": [],
   "source": [
    "import random\n",
    "\n",
    "def generate_test_case(n_companies, n_techs, p):\n",
    "    \"\"\"Genera un caso de prueba con n_companies empresas y n_techs tecnologías, donde cada empresa requiere cada tecnología con probabilidad p.\"\"\"\n",
    "    techs = [f\"tech{i}\" for i in range(n_techs)]\n",
    "    companies = []\n",
    "    for _ in range(n_companies):\n",
    "        company = {tech for tech in techs if random.random() < p}\n",
    "        companies.append(company)\n",
    "    return companies\n",
    "\n",
    "# ejemplo de uso\n",
    "random.seed(1)\n",
    "test_case = generate_test_case(5, 10, 0.5)\n",
    "for company in test_case:\n",
    "    print(company)\n"
   ]
  },
  {
   "attachments": {},
   "cell_type": "markdown",
   "metadata": {},
   "source": [
    "### Demostración de la solución:\n",
    "\n",
    "Para probar la solución propuesta usaremos como convención indexar listas a partir de $0$. Sea $k^*$ el mayor $k$ tal que todo subarray de $a$ de tamaño $k$ sea de suma positiva, es decir $k^*$ denota la solución. Sea $sum$ la suma de todos los elementos de $a$. La idea de la demostración pasa por separar primero los casos $sum>0$ y $sum\\leq0$. En el segundo caso se llega a que si existe solución ($k^* \\neq 0$) entonces $k^*>\\frac{n}{2}$ y posteriormente se usa este resultado más las características de $a$ para encontrarlo eficientemente.\n",
    "\n",
    "###### 1\n",
    "1.  Si $sum>0$ entonces $k^* = n$. Demostración: existe una secuencia de posiciones consecutivas de tamaño $k = n$ con un balance positivo, y $n$ es el mayor número de posiciones consecutivas que puede tener el array.\n",
    "\n",
    "###### 2\n",
    "2. Si $sum \\leq 0$ entonces $k^*=0$ o $k^*>\\frac{n}{2}$. Demostración: \n",
    "\n",
    "Podemos subdividir la demostración en dos casos. Sea $x=a_n$ el último elemento de $a$:\n",
    "- $x\\leq 0$ es decir, los últimos $\\lfloor \\frac{n}{2} \\rfloor$ elementos son no positivos. Si todos los últimos $\\lfloor \\frac{n}{2} \\rfloor$ elementos no son positivos entonces para todo $k$, $1\\leq k \\leq \\lfloor \\frac{n}{2} \\rfloor$, $\\sum_{i=n-k}^{n-1}a_i=kx\\leq 0$ por lo que ninguno de estos valores de $k$ puede ser solución y se concluye que $k^*=0$ o $k^*>\\lfloor \\frac{n}{2} \\rfloor$, y como $k$ es entero es equivalente a $k^*>\\frac{n}{2}$.\n",
    "- $x > 0$ es decir, los últimos $\\lfloor \\frac{n}{2} \\rfloor$ elementos son positivos. Apliquemos reducción al absurdo. Supongamos que existe $1\\leq k \\leq \\lfloor \\frac{n}{2} \\rfloor$ tal que todo subarray de $a$ de tamaño $k$ tiene suma positiva. Repartamos los primeros $qk = n-(n \\% k)$ elementos en grupos de tamaño $k$, los últimos $n \\% k$ se llega a que son igual a $x$. Notar que hay al menos $2$ grupos completos, $q \\geq 2$.\n",
    "    $$sum=\\sum_{i=0}^{n-1}a_i$$\n",
    "    $$sum=\\sum_{j=0}^{q-1}\\sum_{i=0}^{k-1}a_{jk+i}+\\sum_{i=n-(n \\% k)}^{n-1}a_i$$\n",
    "    $$sum\\geq \\sum_{j=0}^{q-1}\\sum_{i=0}^{k-1}a_{jk+i}$$\n",
    "    $$sum > 0 $$\n",
    "Con lo que se halla una contradicción y se concluye que no existe $k$, $1\\leq k \\leq \\lfloor \\frac{n}{2} \\rfloor$ tal que todo intervalo de tamaño $k$ de $a$ tenga suma positiva, por lo que $k^*=0$ o $k^*>\\frac{n}{2}$.\n",
    "\n",
    "Con estos resultados en la mano concentrémonos en encontrar condiciones para cuando $k^*>\\frac{n}{2}$.\n",
    "\n",
    "###### 3\n",
    "3.   Para todo $k>\\frac{n}{2}$ si el intervalo $[l, r]$ tiene longitud $k$, entonces $l<\\frac{n}{2}$ y $r \\geq \\lfloor \\frac{n}{2} \\rfloor$. Demostración:\n",
    "\n",
    "Si $[l, r]$ es un intervalo de tamaño $k$ entonces $r=l+k-1$. Por lo tanto:\n",
    "$$r\\leq n-1$$\n",
    "$$l=r-k+1\\leq n-1-k+1=n-k<\\frac{n}{2}$$\n",
    "Con lo que se obtiene $l<\\frac{n}{2}$.\n",
    "$$l\\geq 0$$\n",
    "$$r=l+k-1 \\geq k-1 > \\frac{n}{2}-1$$\n",
    "Como $r$ es entero, esta última condición es equivalente a $r\\geq \\lfloor \\frac{n}{2} \\rfloor$.\n",
    "\n",
    "A partir de este resultado, solo nos concentraremos en los intervalos $[l, r]$ tal que $l<\\frac{n}{2}$ y $r\\geq \\lfloor \\frac{n}{2} \\rfloor$.\n",
    "\n",
    "###### 4\n",
    "4.  Sea $ac$ el array de sumas de prefijos o sumas acumuladas de $a$ definido por:\n",
    "    $$ac_i=\\sum_{j=0}^{i-1}a_j$$\n",
    "y $[l,r]$ un intervalo del array, $ac_{r+1}-ac_l>0$ si y solo si el intervalo $[l,r]$ es de suma positiva. Demostración:\n",
    "    \n",
    "Sea $s$ la suma en el intervalo $[l, r]$.\n",
    "    $$s=\\sum_{i=l}^ra_i$$\n",
    "    $$s=\\sum_{i=0}^ra_i-\\sum_{i=0}^{l-1}a_i$$\n",
    "    $$s=ac_{r+1}-ac_l$$\n",
    "\n",
    "Por lo que $s$ es positiva si y solo si $ac_{r+1}-ac_l$ lo es.\n",
    "\n",
    "###### 5\n",
    "5.  Sea $ac$ el array de sumas acumuladas. Sus últimos $\\lfloor \\frac{n}{2} \\rfloor+1$ valores forman una progresión aritmética. Demostración:\n",
    "\n",
    "Sea $x=a_n$, $x$ es el valor de los últimos $\\lfloor \\frac{n}{2} \\rfloor$ elementos de $a$. Probemos que para todo $d$, $1\\leq d \\leq \\lfloor \\frac{n}{2} \\rfloor$, se tiene que $ac_{n-d+1}-ac_{n-d}=x$:\n",
    "    $$ac_{n-d+1}-ac_{n-d}=\\sum_{i=0}^{n-d}a_i-\\sum_{i=0}^{n-d-1}a_i$$\n",
    "    $$ac_{n-d+1}-ac_{n-d}=a_{n-d}$$\n",
    "Pero $n-d\\geq n-\\lfloor \\frac{n}{2} \\rfloor$, por lo que $a_{n-d}=x$. Como la diferencia entre dos valores consecutivos de la secuencia $ac_{n-\\lfloor \\frac{n}{2} \\rfloor}, ac_{n-\\lfloor \\frac{n}{2} \\rfloor+1}, \\cdots, ac_{n-1}, ac_{n}$ es igual prueba lo que se quería.\n",
    "   \n",
    "Unamos estos últimos tres resultados para obtener uno más potente.\n",
    "\n",
    "###### 6\n",
    "6.   Para todo $l$, $0 \\leq l < \\frac{n}{2}$, sea $R=\\{r|\\sum_{i=l}^ra_i>0, r\\geq \\lfloor \\frac{n}{2} \\rfloor\\}$, para todo $r_1, r_2 \\in R$ todo $r'$, tal que $r_1 < r' < r_2$ pertenece a $R$ y si $R$ no es vacío $\\lfloor \\frac{n}{2} \\rfloor \\in R$ o $n - 1 \\in R$, no necesariamente excluyentes entre sí. Demostración:\n",
    "\n",
    "Esta demostración consta de dos partes.\n",
    "    \n",
    "Notemos que $R$ es el conjunto de los índices $r$ tal que $[l, r]$ es de suma positiva, por lo tanto $ac_{r+1}-ac_l>0$ o lo que es lo mismo $ac_l<ac_{r+1}$. Además estamos acotando los valores de $R$ para que sean mayores iguales que $\\lfloor \\frac{n}{2} \\rfloor$ por lo que $ac_{r+1}$ caería dentro de los últimos $\\lfloor \\frac{n}{2} \\rfloor+1$ valores de $ac$ y formaría parte de una progresión aritmética. Se puede modelar $R$ como el conjunto de índices (más un offset) en la progresión aritmética que empieza en $ac_{n-\\lfloor \\frac{n}{2} \\rfloor}$, termina en $ac_{n}$ y es de tamaño $\\lfloor \\frac{n}{2} \\rfloor+1$ tal que tengan un valor mayor que $ac_l$. Sean $r_1, r_2$ elementos de $R$, entonces $ac_l<ac_{r_1+1}$ y $ac_l<ac_{r_2+1}$, sin pérdida de generalidad supongamos que $r_1<r_2$, sea $x=a_n$. Entonces $ac_{r_2+1}=ac_{r_1+1}+(r_2-r_1)x$ y para todo $r'$, tal que $r_1<r'<r_2$ se tiene que $ac_{r'+1}=ac_{r_1+1}+(r'-r_1)x$ y $ac_{r'+1}=ac_{r_2+1}-(r_2-r')x$:\n",
    "- si $x\\geq0$ entonces $ac_{r'+1}\\geq ac_{r_1+1} > ac_l$.\n",
    "- si $x<0$ entonces $ac_{r'+1} > ac_{r_2+1} > ac_l$.\n",
    "    \n",
    "Por lo que se concluye $ac_{r'+1} > ac_l$ y $\\lfloor \\frac{n}{2} \\rfloor \\leq r_1 < r$, por lo tanto $r' \\in R$.\n",
    "    \n",
    "Para la segunda parte, supongamos que $r \\in R$, y probemos que $\\lfloor \\frac{n}{2} \\rfloor \\in R$ o que $n-1 \\in R$. Aplicando los resultados anteriores, $ac_l<ac_{r+1}$ y $\\lfloor \\frac{n}{2} \\rfloor \\leq r \\leq n-1$ por la definición de $R$, $ac_{\\lfloor \\frac{n}{2} \\rfloor+1}=ac_{r+1}-(r-\\lfloor \\frac{n}{2} \\rfloor)x$ y $ac_n=ac_{r+1}+(n-r-1)x$ porque los últimos elementos de $ac$ forman una progresión aritmética. Análogamente a la demostración anterior, analicemos según el valor de $x$:\n",
    "- si $x\\geq0$ entonces $ac_n \\geq ac_{r+1} > ac_l$, por lo que $n-1 \\in R$.\n",
    "- si $x < 0$ entonces $ac_{\\lfloor \\frac{n}{2} \\rfloor+1} \\geq ac_{r+1} > ac_l$, por lo que $\\lfloor \\frac{n}{2} \\rfloor \\in R$.\n",
    "    \n",
    "Con esto se prueba lo que se quería.\n",
    "\n",
    "Este último resultado es muy importante ya que nos dice cómo hallar para un $l$ fijo, el intervalo de valores $r \\geq \\lfloor \\frac{n}{2} \\rfloor$ tal que $[l, r]$ es de suma positiva en $O(1)$. Si este intervalo no es vacío, para $x\\geq 0$ siempre contiene a $n-1$, que sería el límite superior de este intervalo, y en otro caso a $\\lfloor \\frac{n}{2} \\rfloor$, que sería el límite inferior. El otro límite de este intervalo se halla usando la propiedad de que los últimos valores de $ac$ forman una progresión aritmética.\n",
    "\n",
    "###### 7\n",
    "7.  Para todo $l$, $0\\leq l < \\frac{n}{2}$, sea $[inf_l, sup_l]$ el intervalo de longitudes $k \\geq \\frac{n}{2}$, tal que el subarray $[l, l+k-1]$ de $a$ es de suma positiva. Si este intervalo resultara vacío, se define $inf_l = n$ y $sup_l = -1$. Sea $inf_{max_i} = \\overset{i}{\\underset{l=0}{max}} (inf_l) $ y $sup_{min_i} = \\overset{i}{\\underset{l=0}{min}} (sup_l) $. Sea $I$ el conjunto de índices $i$ tal que $inf_{max_i} \\leq sup_{min_i}$ y $sup_{min_i}+i=n$. Si $I$ es vacío entonces $k^*=0$ y en otro caso $k^*=n-i^*$ donde $i^*$ es el menor valor de $I$. Demostración:\n",
    "    \n",
    "Habíamos partido anteriormente de que $sum \\leq 0$, y por lo tanto $k^*>\\frac{n}{2}$ o $k^*=0$. \n",
    "    \n",
    "Supongamos que $k^*>\\frac{n}{2}$. \n",
    "    \n",
    "Todos los subarrays $[l, r]$ de $a$ de longitud $k^*$ cumplen que $l<\\frac{n}{2}$ y $r \\geq \\lfloor \\frac{n}{2} \\rfloor$. Especialmente solo es necesario que para todo $l\\leq n-k^*$ el subarray $[l, l+k^*-1]$ de $a$ es de suma positiva.\n",
    "    \n",
    "En el resultado (6) obtuvimos que para un $l$, el conjunto $R$ de valores $r$ tal que el subarray $[l, r]$ de $a$ es de suma positiva y $l<\\frac{n}{2}$ y $r\\geq \\lfloor \\frac{n}{2} \\rfloor$ es un intervalo de enteros positivos o es vacío. Con esta idea en la mano y suponiendo que exista solución $k^*>\\frac{n}{2}$, interesa que para todo $l\\leq n-k^*$ el conjunto de longitudes $k$, $k > \\frac{n}{2}$ tal que el subarray $[l, l+k-1]$ de $a$ es de suma positiva es un intervalo $[inf_l, sup_l]$. \n",
    "    \n",
    "Probemos que $inf_{max_i} \\leq sup_{min_i}$ y $sup_{min_i}+i=n$ para algún $i$, $0\\leq i < \\frac{n}{2}$ si y solo si $k =sup_{min_i}= n-i$ es una posible respuesta: $k>\\frac{n}{2}$ y todo subarray de tamaño $k$ de $a$ es de suma positiva. \n",
    "    \n",
    "- $k$ es posible respuesta implica que $inf_{max_{n-k}} \\leq sup_{min_{n-k}}$ y $sup_{min_{n-k}}+(n-k)=n$, es decir $sup_{min_{n-k}}=k$. Si $k$ es una posible respuesta para todo $l$, $0\\leq l\\leq n-k$ se tiene que $k\\in [inf_l, sup_l]$, o lo que es lo mismo $inf_l \\leq k \\leq sup_l$. Aplicando la definición de $inf_{max_i}$ y $sup_{min_i}$ se obtiene que $inf_{max_{n-k}} \\leq k \\leq sup_{min_{n-k}}$. Además $sup_{min_{n-k}} \\leq sup_{n-k} \\leq n-(n-k) = k$ por lo que $k = sup_{min_{n-k}}$ y $inf_{max_{n-k}} \\leq k \\leq sup_{min_{n-k}}$ se reduce a $inf_{max_{n-k}} \\leq sup_{min_{n-k}}$. Con esto se prueba la primera parte de la doble implicación.\n",
    "- $inf_{max_i} \\leq sup_{min_i}$ y $sup_{min_i}+i=n$ implica que $k = sup_{min_i}= n-i$ es posible respuesta. Para todo $l$, $0\\leq l \\leq i$ tenemos que $inf_l \\leq inf_{max_i}$ y $sup_l \\geq sup_{min_i}$, por lo tanto $inf_l \\leq inf_{max_i} \\leq sup_{min_i} = k \\leq sup_l$ y $k \\in [inf_l, sup_l]$ lo que significa que $k$ es una longitud tal que todo subarray $[l, l+k-1]$ de $a$ es de suma positiva. Ademas $k > \\frac{n}{2}$ porque $inf_l > \\frac{n}{2}$. Con lo que se concluye que $k$ es una posible respuesta.\n",
    "   \n",
    "Nótese que por la definición de $inf_l$ y $sup_l$ propuesta al encontrar un $l$ tal que no exista $k$ tal que el subarray $[l, l+k-1]$ de $a$ es de suma positiva se va a retornar $0$ ya que no se van a cumplir la condicion $inf_{max_i} \\leq sup_{min_i}$ en lo adelante, y ningún $l'<l$ cumplió anteriormente.\n",
    "   \n",
    "Si tal $i$ existe, el menor $i^*$ resultará en la mayor respuesta $k^*=n-i^*$. En otro caso se toma $k^*=0$ porque no existe ningún $k$ que cumpla las condiciones equivalentes a ser posible respuesta. "
   ]
  }
 ],
 "metadata": {
  "kernelspec": {
   "display_name": "Python 3 (ipykernel)",
   "language": "python",
   "name": "python3"
  },
  "language_info": {
   "codemirror_mode": {
    "name": "ipython",
    "version": 3
   },
   "file_extension": ".py",
   "mimetype": "text/x-python",
   "name": "python",
   "nbconvert_exporter": "python",
   "pygments_lexer": "ipython3",
   "version": "3.10.4"
  }
 },
 "nbformat": 4,
 "nbformat_minor": 2
}
