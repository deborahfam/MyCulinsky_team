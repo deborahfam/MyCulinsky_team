{
 "cells": [
  {
   "attachments": {},
   "cell_type": "markdown",
   "metadata": {},
   "source": [
    "# Equipo: Myculinsky 😉\n",
    "\n",
    "Integrantes:\n",
    "- Deborah Famadas Rodríguez C-412 @dbyta\n",
    "- David Manuel García Aguilera C-411 @dmga44\n",
    "\n",
    "\n",
    "#### Problema: 😵‍💫😵\n",
    "\n",
    "Deborah y los Stacks\n",
    "\n",
    "Deborah quiere prepararse para el mundo laboral porque ya casi se gradúa (#!@$ Yeah!) Ella conoce que en general hay muchas cosas que puede aprender del mundo de la programacion: angular, dotnet, docker, ...\n",
    "\n",
    "Por suerte Deborah consiguió una lista en internet con todo lo que se puede aprender relacionado con su carrera, la lista S (stacks) le llamaremos. Cuando siguió buscando online es dio cuenta que las compañias siempre le piden a los candidatos dominio sobre ciertas tecnologias, que, como Deborah investigó bien, todas estas se encuentran en su lista S.\n",
    "\n",
    "Por tanto Deborah hace otra lista, esta vez la lista C, mucho mas larga, donde tiene el conjunto de tecnologías que pide cada compañia que Deborah investigó.\n",
    "\n",
    "Ahora Deborah se debe decidir sobre que compañías va a aplicar, y para esto selecciona exactamente k, que es su tope de multitasking. Ella sabe que como es rubia las compañías pueden tener prejuicios, pero Deborah es inteligente. Ella va a elegir un conjunto de compañias tal que, si debe aplicar a cualquier otra de las no escogidas, la unión del conocimento obtenido preparandose para un subconjunto de las elegidas le dé exactamente los conocimientos que necesita para aplicar a esta otra compañía.Deborah y los Stacks\n",
    "\n",
    "Deborah quiere prepararse para el mundo laboral porque ya casi se gradúa (#!@$ Yeah!) Ella conoce que en general hay muchas cosas que puede aprender del mundo de la programacion: angular, dotnet, docker, ...\n",
    "\n",
    "Por suerte Deborah consiguió una lista en internet con todo lo que se puede aprender relacionado con su carrera, la lista S (stacks) le llamaremos. Cuando siguió buscando online es dio cuenta que las compañias siempre le piden a los candidatos dominio sobre ciertas tecnologias, que, como Deborah investigó bien, todas estas se encuentran en su lista S.\n",
    "\n",
    "Por tanto Deborah hace otra lista, esta vez la lista C, mucho mas larga, donde tiene el conjunto de tecnologías que pide cada compañia que Deborah investigó.\n",
    "\n",
    "Ahora Deborah se debe decidir sobre que compañías va a aplicar, y para esto selecciona exactamente k, que es su tope de multitasking. Ella sabe que como es rubia las compañías pueden tener prejuicios, pero Deborah es inteligente. Ella va a elegir un conjunto de compañias tal que, si debe aplicar a cualquier otra de las no escogidas, la unión del conocimento obtenido preparandose para un subconjunto de las elegidas le dé exactamente los conocimientos que necesita para aplicar a esta otra compañía.\n",
    "\n",
    "#### Explicación matemática: 👌🏻\n",
    "\n",
    "- Se recibe un set $c$ de nombres de compañias y un $k$ entero. \n",
    "- Se desea obtener como respuesta un conjunto de $k$ elementos del set tal que se satisfaga que sea un conjunto mínimo dominante."
   ]
  },
  {
   "attachments": {},
   "cell_type": "markdown",
   "metadata": {},
   "source": [
    "#### Explicación de la solución por Fuerza Bruta:\n",
    "\n",
    "Para la implementación de la solución por fuerza bruta se generan todos los posibles subarrays de longitud $k \\leq n$ del array y se comprueba que sus sumas son positivas, y luego se devuelve el $k$ más grande. "
   ]
  },
  {
   "cell_type": "code",
   "execution_count": 1,
   "metadata": {
    "scrolled": true
   },
   "outputs": [
    {
     "name": "stdout",
     "output_type": "stream",
     "text": [
      "[{'angular', 'docker'}, {'dotnet'}]\n"
     ]
    }
   ],
   "source": [
    "import itertools\n",
    "\n",
    "def best_k_companies(companies, k):\n",
    "    max_dominated = -1\n",
    "    best_subset = None\n",
    "    for subset in itertools.combinations(companies, k):\n",
    "        dominated = get_dominated_companies(companies, subset)\n",
    "        if len(dominated) > max_dominated:\n",
    "            max_dominated = len(dominated)\n",
    "            best_subset = subset\n",
    "    return list(best_subset)\n",
    "\n",
    "def get_dominated_companies(companies, subset):\n",
    "    subset_techs = set.union(*subset)\n",
    "    return [company for company in companies if company.issubset(subset_techs)]\n",
    "\n",
    "# ejemplo de uso\n",
    "companies = [\n",
    "    {\"angular\", \"docker\"}, \n",
    "    {\"dotnet\"}, \n",
    "    {\"angular\", \"dotnet\"}, \n",
    "    {\"docker\"}\n",
    "]\n",
    "\n",
    "print(best_k_companies(companies, 2)) # Output: [{'angular', 'docker'}, {'dotnet'}]\n"
   ]
  },
  {
   "attachments": {},
   "cell_type": "markdown",
   "metadata": {},
   "source": [
    "### Demostración de la solución por fuerza bruta: 💪🏻 \n",
    "\n",
    "La solución por fuerza bruta para este problema es una exploración exhaustiva de todas las posibles selecciones de conjuntos de tamaño $k$ del conjunto original de nodos en el grafo.\n",
    "\n",
    "La idea central es que, si tenemos un grafo y queremos encontrar un subconjunto de nodos de tamaño $k$ que maximice el número de nodos dominados, podemos simplemente probar todas las posibles combinaciones de nodos y mantener un registro del conjunto que domina el mayor número de nodos.\n",
    "\n",
    "Decimos que un conjunto de nodos es dominante si, para cada nodo en el grafo que no está en el conjunto, al menos uno de sus vecinos está en el conjunto. En otras palabras, un conjunto dominante es un conjunto de nodos tal que cada nodo en el grafo está o bien en el conjunto, o es adyacente a al menos un nodo en el conjunto.\n",
    "\n",
    "Solución de fuerza bruta:\n",
    "\n",
    "1. Generamos todos los posibles subconjuntos de tamaño $k$ de los nodos en el grafo. Hay $n^k$ de estos subconjuntos, donde $n^k$ es el coeficiente binomial que representa el número de formas de elegir $k$ elementos de un conjunto de $n$ elementos, sin tener en cuenta el orden.\n",
    "\n",
    "2. Para cada subconjunto, calculamos su conjunto dominante. Esto se hace uniéndolos (en el sentido del conjunto) y verificando qué nodos del grafo son adyacentes a este subconjunto unido.\n",
    "\n",
    "3. Mantenemos un registro del subconjunto que domina el mayor número de nodos.\n",
    "\n",
    "Como resultado de esta lógica, la solución por fuerza bruta garantiza que encontraremos el conjunto de tamaño $k$ que domina el mayor número de nodos, simplemente porque hemos probado todas las posibles combinaciones.\n",
    "\n",
    "Complejidad final $O(n^k * n)$."
   ]
  },
  {
   "attachments": {},
   "cell_type": "markdown",
   "metadata": {},
   "source": [
    "### Explicación general de la solución: 🥵\n",
    "\n"
   ]
  },
  {
   "cell_type": "code",
   "execution_count": null,
   "metadata": {},
   "outputs": [],
   "source": [
    "#implement"
   ]
  },
  {
   "attachments": {},
   "cell_type": "markdown",
   "metadata": {},
   "source": [
    "#### Análisis de complejidad temporal: \n",
    "\n"
   ]
  },
  {
   "attachments": {},
   "cell_type": "markdown",
   "metadata": {},
   "source": [
    "#### Generador:\n"
   ]
  },
  {
   "cell_type": "code",
   "execution_count": 1,
   "metadata": {
    "scrolled": true
   },
   "outputs": [
    {
     "name": "stdout",
     "output_type": "stream",
     "text": [
      "{'tech9', 'tech3', 'tech5', 'tech4', 'tech8', 'tech0'}\n",
      "{'tech9', 'tech3', 'tech1', 'tech4', 'tech6'}\n",
      "{'tech9', 'tech3', 'tech5', 'tech4', 'tech7', 'tech8', 'tech0', 'tech6'}\n",
      "{'tech9', 'tech3', 'tech1', 'tech5', 'tech4', 'tech2', 'tech0'}\n",
      "{'tech3', 'tech7', 'tech2'}\n"
     ]
    }
   ],
   "source": [
    "import random\n",
    "\n",
    "def generate_test_case(n_companies, n_techs, p):\n",
    "    \"\"\"Genera un caso de prueba con n_companies empresas y n_techs tecnologías, donde cada empresa requiere cada tecnología con probabilidad p.\"\"\"\n",
    "    techs = [f\"tech{i}\" for i in range(n_techs)]\n",
    "    companies = []\n",
    "    for _ in range(n_companies):\n",
    "        company = {tech for tech in techs if random.random() < p}\n",
    "        companies.append(company)\n",
    "    return companies\n",
    "\n",
    "# ejemplo de uso\n",
    "random.seed(1)\n",
    "test_case = generate_test_case(5, 10, 0.5)\n",
    "for company in test_case:\n",
    "    print(company)\n"
   ]
  },
  {
   "attachments": {},
   "cell_type": "markdown",
   "metadata": {},
   "source": [
    "### Demostración de la solución:\n",
    "\n"
   ]
  }
 ],
 "metadata": {
  "kernelspec": {
   "display_name": "Python 3 (ipykernel)",
   "language": "python",
   "name": "python3"
  },
  "language_info": {
   "codemirror_mode": {
    "name": "ipython",
    "version": 3
   },
   "file_extension": ".py",
   "mimetype": "text/x-python",
   "name": "python",
   "nbconvert_exporter": "python",
   "pygments_lexer": "ipython3",
   "version": "3.10.4"
  }
 },
 "nbformat": 4,
 "nbformat_minor": 2
}
